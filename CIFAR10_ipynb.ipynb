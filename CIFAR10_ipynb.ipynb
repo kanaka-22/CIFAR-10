{
  "nbformat": 4,
  "nbformat_minor": 0,
  "metadata": {
    "colab": {
      "name": "CIFAR10_ipynb",
      "provenance": [],
      "collapsed_sections": [],
      "authorship_tag": "ABX9TyOOOkQ2hVhqMnHxcs2p1aeC",
      "include_colab_link": true
    },
    "kernelspec": {
      "name": "python3",
      "display_name": "Python 3"
    }
  },
  "cells": [
    {
      "cell_type": "markdown",
      "metadata": {
        "id": "view-in-github",
        "colab_type": "text"
      },
      "source": [
        "<a href=\"https://colab.research.google.com/github/kanaka-22/CIFAR-10/blob/main/CIFAR10_ipynb.ipynb\" target=\"_parent\"><img src=\"https://colab.research.google.com/assets/colab-badge.svg\" alt=\"Open In Colab\"/></a>"
      ]
    },
    {
      "cell_type": "markdown",
      "metadata": {
        "id": "GPiHMTWZQe2H"
      },
      "source": [
        "Simple Convolution Neural Networ to classify  CIFAR IMAGES"
      ]
    },
    {
      "cell_type": "code",
      "metadata": {
        "id": "wq20J4AEPpj_"
      },
      "source": [
        "import tensorflow as tf\r\n",
        "from tensorflow.keras import datasets,layers,models\r\n",
        "import matplotlib.pyplot as plt"
      ],
      "execution_count": null,
      "outputs": []
    },
    {
      "cell_type": "markdown",
      "metadata": {
        "id": "eEgsV_vxS3wm"
      },
      "source": [
        "The CIFAR10 dataset contains 60,000 color images in 10 classes,with 6,000 images in each class.The dataset is divided into 50,000 training images and testing 10,000 images.The Classes are mutually exclusive and there is no overlap between them."
      ]
    },
    {
      "cell_type": "code",
      "metadata": {
        "colab": {
          "base_uri": "https://localhost:8080/"
        },
        "id": "oYgVEv2YRPka",
        "outputId": "e7f52e44-0d4d-4c84-c900-7de102f2b034"
      },
      "source": [
        "(train_images,train_labels),(test_images,test_labels) = datasets.cifar10.load_data()\r\n",
        "train_images,test_images = train_images / 255.0,test_images / 255.0"
      ],
      "execution_count": null,
      "outputs": [
        {
          "output_type": "stream",
          "text": [
            "Downloading data from https://www.cs.toronto.edu/~kriz/cifar-10-python.tar.gz\n",
            "170500096/170498071 [==============================] - 4s 0us/step\n"
          ],
          "name": "stdout"
        }
      ]
    },
    {
      "cell_type": "code",
      "metadata": {
        "colab": {
          "base_uri": "https://localhost:8080/"
        },
        "id": "3BxVD_4_VR_x",
        "outputId": "c4e010a6-db58-418a-e5d6-97e64cf4601a"
      },
      "source": [
        "model = models.Sequential()\r\n",
        "model.add(layers.Conv2D(32,(3,3),activation='relu',input_shape=(32,32,3)))\r\n",
        "model.add(layers.MaxPooling2D((2,2)))\r\n",
        "model.add(layers.Conv2D(64,(3,3),activation='relu'))\r\n",
        "model.add(layers.MaxPooling2D((2,2)))\r\n",
        "model.add(layers.Conv2D(64,(3,3),activation='relu'))\r\n",
        "model.summary()"
      ],
      "execution_count": null,
      "outputs": [
        {
          "output_type": "stream",
          "text": [
            "Model: \"sequential_1\"\n",
            "_________________________________________________________________\n",
            "Layer (type)                 Output Shape              Param #   \n",
            "=================================================================\n",
            "conv2d_3 (Conv2D)            (None, 30, 30, 32)        896       \n",
            "_________________________________________________________________\n",
            "max_pooling2d_2 (MaxPooling2 (None, 15, 15, 32)        0         \n",
            "_________________________________________________________________\n",
            "conv2d_4 (Conv2D)            (None, 13, 13, 64)        18496     \n",
            "_________________________________________________________________\n",
            "max_pooling2d_3 (MaxPooling2 (None, 6, 6, 64)          0         \n",
            "_________________________________________________________________\n",
            "conv2d_5 (Conv2D)            (None, 4, 4, 64)          36928     \n",
            "=================================================================\n",
            "Total params: 56,320\n",
            "Trainable params: 56,320\n",
            "Non-trainable params: 0\n",
            "_________________________________________________________________\n"
          ],
          "name": "stdout"
        }
      ]
    },
    {
      "cell_type": "markdown",
      "metadata": {
        "id": "u_y2kwimadY6"
      },
      "source": [
        "Add Dense Layers"
      ]
    },
    {
      "cell_type": "code",
      "metadata": {
        "colab": {
          "base_uri": "https://localhost:8080/"
        },
        "id": "NsMMq6CLWRvz",
        "outputId": "5e1a4f90-804d-4d45-f008-3ec08d75d60b"
      },
      "source": [
        "model.add(layers.Flatten())\r\n",
        "model.add(layers.Dense(64,activation='relu'))\r\n",
        "model.add(layers.Dense(10))\r\n",
        "model.summary()"
      ],
      "execution_count": null,
      "outputs": [
        {
          "output_type": "stream",
          "text": [
            "Model: \"sequential_1\"\n",
            "_________________________________________________________________\n",
            "Layer (type)                 Output Shape              Param #   \n",
            "=================================================================\n",
            "conv2d_3 (Conv2D)            (None, 30, 30, 32)        896       \n",
            "_________________________________________________________________\n",
            "max_pooling2d_2 (MaxPooling2 (None, 15, 15, 32)        0         \n",
            "_________________________________________________________________\n",
            "conv2d_4 (Conv2D)            (None, 13, 13, 64)        18496     \n",
            "_________________________________________________________________\n",
            "max_pooling2d_3 (MaxPooling2 (None, 6, 6, 64)          0         \n",
            "_________________________________________________________________\n",
            "conv2d_5 (Conv2D)            (None, 4, 4, 64)          36928     \n",
            "_________________________________________________________________\n",
            "flatten (Flatten)            (None, 1024)              0         \n",
            "_________________________________________________________________\n",
            "dense (Dense)                (None, 64)                65600     \n",
            "_________________________________________________________________\n",
            "dense_1 (Dense)              (None, 10)                650       \n",
            "=================================================================\n",
            "Total params: 122,570\n",
            "Trainable params: 122,570\n",
            "Non-trainable params: 0\n",
            "_________________________________________________________________\n"
          ],
          "name": "stdout"
        }
      ]
    },
    {
      "cell_type": "markdown",
      "metadata": {
        "id": "FpQDxsPNa1bV"
      },
      "source": [
        "Compile the Model"
      ]
    },
    {
      "cell_type": "code",
      "metadata": {
        "colab": {
          "base_uri": "https://localhost:8080/"
        },
        "id": "xKKfcjUvaiVb",
        "outputId": "ff73cba1-5bef-4f88-8221-6efbbaf5f753"
      },
      "source": [
        "model.compile(optimizer='adam',loss=tf.keras.losses.SparseCategoricalCrossentropy(from_logits=True),\r\n",
        "              metrics=['accuracy'])\r\n",
        "history = model.fit(train_images,train_labels,epochs= 10,validation_data=(test_images,test_labels))\r\n"
      ],
      "execution_count": null,
      "outputs": [
        {
          "output_type": "stream",
          "text": [
            "Epoch 1/10\n",
            "1563/1563 [==============================] - 57s 36ms/step - loss: 1.7262 - accuracy: 0.3575 - val_loss: 1.2643 - val_accuracy: 0.5510\n",
            "Epoch 2/10\n",
            "1563/1563 [==============================] - 56s 36ms/step - loss: 1.1975 - accuracy: 0.5723 - val_loss: 1.0577 - val_accuracy: 0.6221\n",
            "Epoch 3/10\n",
            "1563/1563 [==============================] - 56s 36ms/step - loss: 1.0041 - accuracy: 0.6464 - val_loss: 0.9663 - val_accuracy: 0.6635\n",
            "Epoch 4/10\n",
            "1563/1563 [==============================] - 55s 35ms/step - loss: 0.8961 - accuracy: 0.6873 - val_loss: 0.9183 - val_accuracy: 0.6855\n",
            "Epoch 5/10\n",
            "1563/1563 [==============================] - 55s 35ms/step - loss: 0.8088 - accuracy: 0.7183 - val_loss: 0.9200 - val_accuracy: 0.6829\n",
            "Epoch 6/10\n",
            "1563/1563 [==============================] - 55s 35ms/step - loss: 0.7545 - accuracy: 0.7375 - val_loss: 0.8941 - val_accuracy: 0.6923\n",
            "Epoch 7/10\n",
            "1563/1563 [==============================] - 56s 36ms/step - loss: 0.6977 - accuracy: 0.7577 - val_loss: 0.8829 - val_accuracy: 0.6970\n",
            "Epoch 8/10\n",
            "1563/1563 [==============================] - 56s 36ms/step - loss: 0.6469 - accuracy: 0.7731 - val_loss: 0.8639 - val_accuracy: 0.7102\n",
            "Epoch 9/10\n",
            "1563/1563 [==============================] - 56s 36ms/step - loss: 0.6129 - accuracy: 0.7842 - val_loss: 0.8773 - val_accuracy: 0.7137\n",
            "Epoch 10/10\n",
            "1563/1563 [==============================] - 56s 36ms/step - loss: 0.5710 - accuracy: 0.8029 - val_loss: 0.9060 - val_accuracy: 0.7071\n"
          ],
          "name": "stdout"
        }
      ]
    },
    {
      "cell_type": "code",
      "metadata": {
        "colab": {
          "base_uri": "https://localhost:8080/"
        },
        "id": "oKLGNHezcVcz",
        "outputId": "1bd12dd9-732c-4200-cffa-032c80a6f11a"
      },
      "source": [
        "test_loss,test_acc = model.evaluate(test_images,test_labels,verbose=2)"
      ],
      "execution_count": null,
      "outputs": [
        {
          "output_type": "stream",
          "text": [
            "313/313 - 3s - loss: 0.9060 - accuracy: 0.7071\n"
          ],
          "name": "stdout"
        }
      ]
    },
    {
      "cell_type": "code",
      "metadata": {
        "colab": {
          "base_uri": "https://localhost:8080/"
        },
        "id": "ZoKKMma3cx8F",
        "outputId": "70de4202-a9bd-4d1e-e512-50c1bb2c5596"
      },
      "source": [
        "print(test_acc)"
      ],
      "execution_count": null,
      "outputs": [
        {
          "output_type": "stream",
          "text": [
            "0.707099974155426\n"
          ],
          "name": "stdout"
        }
      ]
    }
  ]
}